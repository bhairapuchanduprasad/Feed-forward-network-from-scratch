{
 "cells": [
  {
   "cell_type": "markdown",
   "id": "04b3d24d",
   "metadata": {},
   "source": [
    "# Feed forward network\n",
    "\n",
    "In this part of the assignment we will develop our own building blocks for constructing a feed forward network.\n",
    "We will follow a modular approach so that we can use these building blocks in feed forward architecture of our choice.\n",
    "\n",
    "We will follow the logic of computation graphs where the layers and the loss have the characteristics of the compute nodes in terms of locality and ability to communicate with upstream and downstream blocks.\n",
    "\n",
    "Instead of defining the forward and backward steps as functions that need to pass around cached variables, we will implement the compute nodes as statefull objects - instantiations of python classes with forward and backward methods.\n",
    "\n",
    "We will then conscruct a 2 layer neural network and use our newly developed functionality to predict the target values and compute the parameter gradients.\n",
    "\n",
    "Work with the code in `ann_code/layers.py` and complete it as instructed here below."
   ]
  },
  {
   "cell_type": "code",
   "execution_count": 1,
   "id": "0d6f0ff4",
   "metadata": {},
   "outputs": [],
   "source": [
    "# necessary initialization\n",
    "%load_ext autoreload\n",
    "%autoreload 2\n",
    "\n",
    "import torch"
   ]
  },
  {
   "cell_type": "code",
   "execution_count": 2,
   "id": "979a3fff",
   "metadata": {},
   "outputs": [
    {
     "name": "stdout",
     "output_type": "stream",
     "text": [
      "Number of instances: 90, input dimensions: 3.\n"
     ]
    }
   ],
   "source": [
    "# load data\n",
    "from ann_code.helpers import load_data\n",
    "in_data, labels = load_data(filename='./ann_data/toy_data.csv') # correct filename if necessary\n",
    "\n",
    "# get data dimensions\n",
    "num_inst, num_dim = in_data.shape\n",
    "print(f\"Number of instances: {num_inst}, input dimensions: {num_dim}.\")"
   ]
  },
  {
   "cell_type": "markdown",
   "id": "441dd5a4",
   "metadata": {},
   "source": [
    "## 1) Forward pass\n",
    "\n",
    "We first work on the forward pass functionality of our layer objects."
   ]
  },
  {
   "cell_type": "markdown",
   "id": "798266a9",
   "metadata": {},
   "source": [
    "### Linear layer\n",
    "\n",
    "We start by defyining the linear layer.\n",
    "Complete the `__init__` and `forward` methods of the `Linear` class in `ann_code/layers.py`.\n",
    "\n",
    "The class object instances shall be initialized with the linear function parameters (weight and bias) as the instance attributes.\n",
    "The other local information (inputs, outputs and their gradients) shall be also defined as the instance object attributes and will be populated by the `forward` and `backward` methods."
   ]
  },
  {
   "cell_type": "code",
   "execution_count": 3,
   "id": "e65e8e95",
   "metadata": {},
   "outputs": [
    {
     "name": "stdout",
     "output_type": "stream",
     "text": [
      "Your outputs tensor([[ 1.0220,  1.0258,  1.0295,  1.0329,  1.0361,  1.0391,  1.0418,  1.0441,\n",
      "          1.0462,  1.0479],\n",
      "        [-0.4527, -0.5533, -0.6615, -0.7779, -0.9030, -1.0374, -1.1819, -1.3370,\n",
      "         -1.5037, -1.6827]])\n"
     ]
    }
   ],
   "source": [
    "# after implementing Linear class, check it here\n",
    "from ann_code.layers import Linear\n",
    "\n",
    "# initiate w and b buffers\n",
    "# we use these for initiating the model parameters instead of the usual random init\n",
    "# this is to make sure that yours and mine results match\n",
    "w_buffer = torch.logspace(start=0.1, end=10, steps=1000)\n",
    "b_buffer = torch.logspace(start=0.1, end=10, steps=1000, base=2)\n",
    "\n",
    "# linear layer dimensions\n",
    "in_features = num_dim\n",
    "out_features = 10\n",
    "W=w_buffer[:30].view(10,3)\n",
    "b=b_buffer[:10].view(1,10)\n",
    "linearlayer=Linear(W,b)\n",
    "\n",
    "# forward pass in_data through the layer\n",
    "outputs = linearlayer.forward(in_data)\n",
    "\n",
    "# check outputs for the first two data instances\n",
    "print(f'Your outputs {outputs[:2,:]}')"
   ]
  },
  {
   "cell_type": "markdown",
   "id": "959d9d18",
   "metadata": {},
   "source": [
    "Expected outputs\n",
    "\n",
    "`tensor([[ 1.0220,  1.0258,  1.0295,  1.0329,  1.0361,  1.0391,  1.0418,  1.0441,\n",
    "          1.0462,  1.0479],\n",
    "        [-0.4527, -0.5533, -0.6615, -0.7779, -0.9030, -1.0374, -1.1819, -1.3370,\n",
    "         -1.5037, -1.6827]])`"
   ]
  },
  {
   "cell_type": "markdown",
   "id": "3bd1e04c",
   "metadata": {},
   "source": [
    "### ReLU nonlinearity\n",
    "\n",
    "We next defined the class for the Rectified Linear Unit which is an element-wise operation defined as $\\sigma(x) = max(0, x).$\n",
    "\n",
    "Complete the `forward` methods of the `Relu` class in `ann_code/layers.py`. Note that in this case, there are no parameters that should be included in the object instances as initial states."
   ]
  },
  {
   "cell_type": "code",
   "execution_count": 4,
   "id": "4c8941aa",
   "metadata": {},
   "outputs": [
    {
     "name": "stdout",
     "output_type": "stream",
     "text": [
      "Your outputs tensor([[0.8872, 0.0000, 0.3707],\n",
      "        [0.0000, 1.3094, 0.0000]])\n"
     ]
    }
   ],
   "source": [
    "# After implementing Relu class, check it here\n",
    "from ann_code.layers import Relu\n",
    "\n",
    "# relu instance\n",
    "relu1 = Relu()\n",
    "\n",
    "# forward pass in_data through the layer\n",
    "outputs = relu1.forward(in_data)\n",
    "\n",
    "# check outputs for the first two data instances\n",
    "print(f'Your outputs {outputs[:2,:]}')"
   ]
  },
  {
   "cell_type": "markdown",
   "id": "278bafde",
   "metadata": {},
   "source": [
    "Expected outputs\n",
    "\n",
    "`tensor([[0.8872, 0.0000, 0.3707],\n",
    "        [0.0000, 1.3094, 0.0000]])`"
   ]
  },
  {
   "cell_type": "markdown",
   "id": "941c79b9",
   "metadata": {},
   "source": [
    "### Define 2 layer network\n",
    "\n",
    "We use the linear and relu classes to create a network with the following architecture. \n",
    "We combine the layers through the `Model` class that I defined for you in the `ann_code/layers.py`\n",
    "\n",
    "We will add the MSE less in a later step, now do just the forward pass through the layers to obtain the predicitons.\n",
    "\n",
    "<center><img src=\"net_diagram.png\">\n",
    "\n"
   ]
  },
  {
   "cell_type": "code",
   "execution_count": 5,
   "id": "8ad5a04d",
   "metadata": {},
   "outputs": [
    {
     "name": "stdout",
     "output_type": "stream",
     "text": [
      "Your outputs tensor([[8.1458],\n",
      "        [1.1016]])\n"
     ]
    }
   ],
   "source": [
    "# work with Model class to do the forward pass through the network\n",
    "from ann_code.layers import Model\n",
    "\n",
    "W2=w_buffer[:12].view(4,3)\n",
    "b2=b_buffer[:4].view(1,4)\n",
    "lin1=Linear(W2,b2)\n",
    "relu1=Relu()\n",
    "W3=w_buffer[12:16].view(1,4)\n",
    "b3=b_buffer[4:5].view(1,1)\n",
    "lin2=Linear(W3,b3)\n",
    "\n",
    "layers = [lin1,relu1,lin2]\n",
    "\n",
    "model = Model(layers)\n",
    "ypred = model.forward(in_data)\n",
    "\n",
    "\n",
    "# check outputs for the first two data instances\n",
    "print(f'Your outputs {ypred[:2,:]}')"
   ]
  },
  {
   "cell_type": "markdown",
   "id": "c87699ab",
   "metadata": {},
   "source": [
    "Expected output\n",
    "\n",
    "`tensor([[8.1458],\n",
    "        [1.1016]])`"
   ]
  },
  {
   "cell_type": "markdown",
   "id": "a63f299c",
   "metadata": {},
   "source": [
    "## 3) MSE loss\n",
    "\n",
    "We use the MSE loss functions defined in `ann_code/linear_regression.py` to get the mse loss for our predictions and the corresponding gradients."
   ]
  },
  {
   "cell_type": "code",
   "execution_count": 6,
   "id": "5f704f6b",
   "metadata": {},
   "outputs": [],
   "source": [
    "# use mse functions defined for linear regression to get the MSE and gradient with respect to predictions\n",
    "from ann_code.linear_regression import mse_forward, mse_backward\n",
    "\n",
    "loss, mse_cache = mse_forward(ypred, labels)\n",
    "ypredgrad, _ = mse_backward(mse_cache)"
   ]
  },
  {
   "cell_type": "markdown",
   "id": "f4c3bcb0",
   "metadata": {},
   "source": [
    "## 3) Backward propagation\n",
    "\n",
    "Finally, you need to implement the `backward` methods in for the `Linear` and `Relu` classes.\n",
    "\n",
    "Remember that you need to use the chain rule and combine the local and the upstream gradient to obtain the global gradients. Do not forget that ReLu is an element-wise operation."
   ]
  },
  {
   "cell_type": "code",
   "execution_count": 7,
   "id": "97b4ced4",
   "metadata": {},
   "outputs": [
    {
     "name": "stdout",
     "output_type": "stream",
     "text": [
      "Global gradient of loss with respect to weight parameters tensor([[106.2968, 108.7577, 111.4530, 114.4143]])\n",
      "Global gradient of loss with respect to bias parameters tensor([[90.]])\n",
      "Global gradient of loss with respect to linear layer inputs tensor([[1.6555, 1.6937, 1.7328, 1.7728],\n",
      "        [1.6555, 1.6937, 1.7328, 1.7728]])\n"
     ]
    }
   ],
   "source": [
    "# After implementing the backward passes of Linear class test it here\n",
    "\n",
    "# do the backward pass of last linear layer\n",
    "lin2.backward(torch.ones(num_inst, 1))\n",
    "\n",
    "# check global gradients\n",
    "print(f'Global gradient of loss with respect to weight parameters {lin2.W.g}')\n",
    "print(f'Global gradient of loss with respect to bias parameters {lin2.b.g}')\n",
    "print(f'Global gradient of loss with respect to linear layer inputs {lin2.ins.g[:2,:]}')"
   ]
  },
  {
   "cell_type": "markdown",
   "id": "b853b139",
   "metadata": {},
   "source": [
    "Expected results\n",
    "\n",
    "`Global gradient of loss with respect to weight parameters tensor([[106.2968, 108.7577, 111.4530, 114.4143]])\n",
    "Global gradient of loss with respect to bias parameters tensor([[90.]])\n",
    "Global gradient of loss with respect to linear layer inputs tensor([[1.6555, 1.6937, 1.7328, 1.7728],\n",
    "        [1.6555, 1.6937, 1.7328, 1.7728]])`"
   ]
  },
  {
   "cell_type": "code",
   "execution_count": 8,
   "id": "1a043849",
   "metadata": {},
   "outputs": [
    {
     "name": "stdout",
     "output_type": "stream",
     "text": [
      "Global gradient of loss with respect to relu inputs tensor([[0, 1, 2, 3],\n",
      "        [0, 0, 0, 0]])\n"
     ]
    }
   ],
   "source": [
    "# After implementing the backward passes of relu class test it here\n",
    "\n",
    "# do the backward pass of relu\n",
    "\n",
    "relu1.backward(torch.arange(num_inst*4).view(num_inst, 4))\n",
    "\n",
    "# check global gradients\n",
    "print(f'Global gradient of loss with respect to relu inputs {relu1.ins.g[:2,:]}')"
   ]
  },
  {
   "cell_type": "markdown",
   "id": "f9b0ffd7",
   "metadata": {},
   "source": [
    "Expected results\n",
    "\n",
    "`Global gradient of loss with respect to relu inputs tensor([[0., 1., 2., 3.],\n",
    "        [0., 0., 0., 0.]])`"
   ]
  },
  {
   "cell_type": "markdown",
   "id": "17daa25f",
   "metadata": {},
   "source": [
    "## Complete backward pass\n",
    "\n",
    "We shall use the Model class to get the gradients of all the layers and their parameters with respect to the loss."
   ]
  },
  {
   "cell_type": "code",
   "execution_count": 9,
   "id": "f8234339",
   "metadata": {},
   "outputs": [
    {
     "name": "stdout",
     "output_type": "stream",
     "text": [
      "Your dLoss/dW1: tensor([[10.4693,  6.8379,  4.1449],\n",
      "        [10.5790,  7.0695,  4.3389],\n",
      "        [10.8324,  7.2315,  4.4382],\n",
      "        [11.0693,  7.3818,  4.5600]])\n",
      "Your dLoss/db1: tensor([[31.2568, 31.9208, 32.6484, 33.4148]])\n",
      "Your dLoss/dins: tensor([[1.6884, 1.7274, 1.7673],\n",
      "        [0.0000, 0.0000, 0.0000]])\n",
      "Correct dLoss/dW1: tensor([[10.4693,  6.8379,  4.1449],\n",
      "        [10.5790,  7.0695,  4.3389],\n",
      "        [10.8324,  7.2315,  4.4382],\n",
      "        [11.0693,  7.3818,  4.5600]])\n",
      "Correct dLoss/db1: tensor([[31.2568, 31.9208, 32.6484, 33.4148]])\n",
      "Correct dLoss/dins: tensor([[1.6884, 1.7274, 1.7673],\n",
      "        [0.0000, 0.0000, 0.0000]])\n"
     ]
    },
    {
     "name": "stderr",
     "output_type": "stream",
     "text": [
      "C:\\ProgramData\\Anaconda3\\lib\\site-packages\\torch\\autograd\\__init__.py:173: UserWarning: CUDA initialization: CUDA driver initialization failed, you might not have a CUDA gpu. (Triggered internally at  C:\\cb\\pytorch_1000000000000\\work\\c10\\cuda\\CUDAFunctions.cpp:112.)\n",
      "  Variable._execution_engine.run_backward(  # Calls into the C++ engine to run the backward pass\n"
     ]
    }
   ],
   "source": [
    "from ann_code.helpers import grad_model\n",
    "\n",
    "# do the backward pass through the model\n",
    "model.backward(ypredgrad)\n",
    "\n",
    "# print out your gradients of loss with respect to the parameters of the 1st model layer\n",
    "print(f'Your dLoss/dW1: {model.layers[0].W.g}')\n",
    "print(f'Your dLoss/db1: {model.layers[0].b.g}')\n",
    "print(f'Your dLoss/dins: {model.layers[0].ins.g[:2, :]}')\n",
    "\n",
    "# print out correct gradients of loss with respect to the parameters of the 1st model layer\n",
    "# these should be the same as your gradients from above\n",
    "model_check = grad_model(model, in_data, labels)\n",
    "print(f'Correct dLoss/dW1: {model_check.layers[0].W.grad}')\n",
    "print(f'Correct dLoss/db1: {model_check.layers[0].b.grad}')\n",
    "print(f'Correct dLoss/dins: {model_check.layers[0].ins.grad[:2, :]}')"
   ]
  },
  {
   "cell_type": "markdown",
   "id": "2432c340",
   "metadata": {},
   "source": [
    "## 4) Multilayer feed forward network\n",
    "\n",
    "Finally, use your `Linear` and `Relu` classes and combine them with the `Model` class to construct a more complicated network.\n",
    "\n",
    "Define a network with the following architecture:\n",
    "Linear: input_dim = 3, output_dim = 5 -> Relu ->\n",
    "Linear: input_dim = 5, output_dim = 10 -> Relu ->\n",
    "Linear: input_dim = 10, output_dim = 4 -> Relu ->\n",
    "Linear: input_dim = 4, output_dim = 1\n",
    "\n",
    "Initialize all the linear layers with parameters W and b sampled randomly from standardat normal distribution.\n",
    "\n",
    "Combine the layers using the `Model` class and get the predictions (`forward` method).\n",
    "\n",
    "Use the MSE forward and backward functions to get the loss and the gradient with respect to the predictions.\n",
    "\n",
    "Use the `backward` method of `Model` to get all the gradients."
   ]
  },
  {
   "cell_type": "code",
   "execution_count": 10,
   "id": "a19f0072",
   "metadata": {},
   "outputs": [
    {
     "name": "stdout",
     "output_type": "stream",
     "text": [
      "torch.Size([90, 3])\n"
     ]
    },
    {
     "data": {
      "text/plain": [
       "tensor([[-2.9881e-01, -1.1856e+00,  2.5806e+00],\n",
       "        [-1.6428e+00,  5.3316e+00, -3.1710e+00],\n",
       "        [ 5.4719e-01,  2.6398e+00, -1.4216e+00],\n",
       "        [ 4.1268e-01, -8.1125e-01,  1.4487e+00],\n",
       "        [ 2.9934e-01, -4.9563e-01,  1.0859e+00],\n",
       "        [ 2.4937e-01, -3.1799e-01,  6.7148e-01],\n",
       "        [-9.2622e-01,  5.6796e+00, -3.1998e+00],\n",
       "        [ 4.6507e-01, -5.8765e-01,  1.3185e+00],\n",
       "        [ 2.1730e-01, -3.5979e-01,  7.8831e-01],\n",
       "        [ 4.4679e-01, -3.9645e-01,  1.0944e+00],\n",
       "        [ 4.7645e-01, -6.0202e-01,  1.3507e+00],\n",
       "        [-5.2619e-01,  3.2266e+00, -1.8178e+00],\n",
       "        [-9.6453e-03, -3.8756e-01,  8.9241e-01],\n",
       "        [ 6.5319e-01, -5.7960e-01,  1.6000e+00],\n",
       "        [ 6.4715e-01, -5.7423e-01,  1.5851e+00],\n",
       "        [-2.6455e-01, -1.0497e+00,  2.2847e+00],\n",
       "        [ 2.0613e-01, -2.6720e-01,  5.8783e-01],\n",
       "        [ 3.9051e-01, -6.4657e-01,  1.4166e+00],\n",
       "        [-8.6004e-03, -3.4558e-01,  7.9574e-01],\n",
       "        [ 6.5478e-01,  3.1589e+00, -1.7011e+00],\n",
       "        [ 2.8304e-01,  2.0967e+00, -1.3658e+00],\n",
       "        [ 1.7825e-01, -1.7002e-01,  1.1126e-01],\n",
       "        [ 4.4883e-01, -3.9826e-01,  1.0994e+00],\n",
       "        [-1.0669e+00,  6.5422e+00, -3.6857e+00],\n",
       "        [ 2.7512e-01,  1.4616e-01,  6.1799e-01],\n",
       "        [ 6.8049e-01,  3.2829e+00, -1.7679e+00],\n",
       "        [ 5.4485e-01, -4.8346e-01,  1.3346e+00],\n",
       "        [-6.8312e-01,  4.1889e+00, -2.3599e+00],\n",
       "        [ 5.1654e-01, -4.5834e-01,  1.2652e+00],\n",
       "        [-4.2933e-02, -4.1120e-01,  8.1250e-01],\n",
       "        [-1.4575e-01, -1.1944e-01,  1.3264e+00],\n",
       "        [ 5.4658e-01,  2.6369e+00, -1.4200e+00],\n",
       "        [-1.2499e+00,  4.0565e+00, -2.4127e+00],\n",
       "        [ 2.2620e-01, -2.7768e-01,  5.8921e-01],\n",
       "        [ 5.1526e-01, -4.5721e-01,  1.2621e+00],\n",
       "        [-1.1055e-02, -1.1241e-01,  7.7352e-01],\n",
       "        [-2.9848e-01, -1.1843e+00,  2.5777e+00],\n",
       "        [ 6.3677e-01,  3.0720e+00, -1.6543e+00],\n",
       "        [ 7.4212e-01,  7.3859e-01,  4.9116e-01],\n",
       "        [ 3.3716e-01,  2.4976e+00, -1.6269e+00],\n",
       "        [-1.2525e+00,  4.0648e+00, -2.4176e+00],\n",
       "        [ 5.1551e-01, -4.5743e-01,  1.2627e+00],\n",
       "        [ 1.6405e-01, -1.5647e-01,  1.0239e-01],\n",
       "        [-1.4841e-01,  5.0108e-01,  2.9852e-01],\n",
       "        [ 4.4297e-01, -3.9306e-01,  1.0850e+00],\n",
       "        [-8.8046e-03, -3.5378e-01,  8.1463e-01],\n",
       "        [-1.0474e-02, -4.2087e-01,  9.6911e-01],\n",
       "        [ 7.4050e-01,  7.3698e-01,  4.9009e-01],\n",
       "        [ 3.1699e-01, -5.2484e-01,  1.1499e+00],\n",
       "        [ 1.7176e-01, -2.2265e-01,  4.8982e-01],\n",
       "        [ 3.6828e-01,  1.9565e-01,  8.2725e-01],\n",
       "        [-1.5322e-01, -1.2556e-01,  1.3944e+00],\n",
       "        [ 5.1977e-01, -4.6121e-01,  1.2731e+00],\n",
       "        [ 5.8425e-01,  2.8186e+00, -1.5178e+00],\n",
       "        [ 2.3879e-01, -2.2777e-01,  1.4905e-01],\n",
       "        [ 3.5622e-01, -5.4750e-01,  1.1002e+00],\n",
       "        [-1.0682e+00,  6.5505e+00, -3.6904e+00],\n",
       "        [ 5.4822e-01,  2.6448e+00, -1.4243e+00],\n",
       "        [-3.0317e-01, -1.2029e+00,  2.6182e+00],\n",
       "        [ 5.8807e-01, -5.2181e-01,  1.4404e+00],\n",
       "        [ 2.7819e-01,  1.4779e-01,  6.2487e-01],\n",
       "        [-1.4834e-01, -1.2156e-01,  1.3500e+00],\n",
       "        [ 6.6827e-01,  3.2239e+00, -1.7361e+00],\n",
       "        [ 8.1555e-01,  3.9345e+00, -2.1188e+00],\n",
       "        [ 3.9934e-03, -3.7939e-02,  5.8796e-01],\n",
       "        [-7.2527e-03, -2.9142e-01,  6.7104e-01],\n",
       "        [ 5.4960e-01, -4.8767e-01,  1.3462e+00],\n",
       "        [-1.0804e+00,  6.6248e+00, -3.7323e+00],\n",
       "        [ 7.6318e-01,  7.5955e-01,  5.0509e-01],\n",
       "        [-2.8627e-01, -1.1358e+00,  2.4722e+00],\n",
       "        [ 4.8032e-01, -6.0691e-01,  1.3617e+00],\n",
       "        [ 4.7958e-03, -4.5563e-02,  7.0612e-01],\n",
       "        [ 6.7078e-01,  3.2361e+00, -1.7427e+00],\n",
       "        [ 5.0308e-01, -6.3566e-01,  1.4262e+00],\n",
       "        [-2.1234e-01,  7.1690e-01,  4.2709e-01],\n",
       "        [ 6.4638e-01,  3.1184e+00, -1.6793e+00],\n",
       "        [ 5.8961e-01, -5.2318e-01,  1.4442e+00],\n",
       "        [-3.6323e-01, -1.2732e+00,  2.5566e+00],\n",
       "        [ 4.6364e-01, -5.8584e-01,  1.3144e+00],\n",
       "        [-1.8667e-01,  6.3024e-01,  3.7547e-01],\n",
       "        [ 2.7309e-01,  2.0230e+00, -1.3178e+00],\n",
       "        [-3.1099e-01, -1.2339e+00,  2.6857e+00],\n",
       "        [-8.4844e-03, -3.4091e-01,  7.8500e-01],\n",
       "        [-1.1144e+00,  6.8335e+00, -3.8499e+00],\n",
       "        [-1.1193e+00,  6.5455e+00, -3.7155e+00],\n",
       "        [-8.9485e-03, -9.0986e-02,  6.2611e-01],\n",
       "        [-3.5688e-01, -1.2509e+00,  2.5119e+00],\n",
       "        [ 2.2918e-01, -2.8134e-01,  5.9696e-01],\n",
       "        [-7.4523e-01,  4.5697e+00, -2.5745e+00],\n",
       "        [-8.6217e-03, -3.4643e-01,  7.9770e-01]], grad_fn=<MmBackward0>)"
      ]
     },
     "execution_count": 10,
     "metadata": {},
     "output_type": "execute_result"
    }
   ],
   "source": [
    "\n",
    "relu_1=Relu()\n",
    "relu_2=Relu()\n",
    "relu_3=Relu()\n",
    "layer1=Linear(torch.randn((5,3)),torch.randn((1,5)))\n",
    "layer2=Linear(torch.randn((10,5)),torch.randn((1,10)))\n",
    "layer3=Linear(torch.randn((4,10)),torch.randn((1,4)))\n",
    "layer4=Linear(torch.randn((1,4)),torch.randn((1,1)))\n",
    "layers1=(layer1,relu_1,layer2,relu_2,layer3,relu_3,layer4)\n",
    "mffn = Model(layers1)\n",
    "y_pred_1=mffn.forward(in_data)\n",
    "loss,mse_cache_1=mse_forward(y_pred_1,labels)\n",
    "ypredgrad_1,xx=mse_backward(mse_cache_1)\n",
    "print(mffn.layers[0].ins.shape)\n",
    "mffn.backward(ypredgrad_1)\n"
   ]
  },
  {
   "cell_type": "markdown",
   "id": "4b4e2209",
   "metadata": {},
   "source": [
    "#### Check model architecture"
   ]
  },
  {
   "cell_type": "code",
   "execution_count": 11,
   "id": "45cbb701",
   "metadata": {},
   "outputs": [
    {
     "name": "stdout",
     "output_type": "stream",
     "text": [
      "You NN architecture definitions seems CORRECT.\n"
     ]
    }
   ],
   "source": [
    "# check architecture\n",
    "from ann_code.helpers import check_architecture\n",
    "\n",
    "check_architecture(mffn)"
   ]
  },
  {
   "cell_type": "markdown",
   "id": "7491cb84",
   "metadata": {},
   "source": [
    "#### Check gradient computation"
   ]
  },
  {
   "cell_type": "code",
   "execution_count": 12,
   "id": "69792d4e",
   "metadata": {},
   "outputs": [
    {
     "name": "stdout",
     "output_type": "stream",
     "text": [
      "Your dLoss/dW1: tensor([[ -8.7668,  11.2050,  -9.2887],\n",
      "        [ -1.0134,   4.6907,  -5.7011],\n",
      "        [ -7.3668,  55.9515, -58.8643],\n",
      "        [ -1.9684, -13.3189,  14.9649],\n",
      "        [  0.2436, -12.4558,  15.9174]], grad_fn=<MmBackward0>)\n",
      "Your dLoss/db1: tensor([[  8.8145, -12.5458,  51.7239,  22.9312,  28.0691]],\n",
      "       grad_fn=<MmBackward0>)\n",
      "Your dLoss/dins: tensor([[-0.2988, -1.1856,  2.5806],\n",
      "        [-1.6428,  5.3316, -3.1710]], grad_fn=<SliceBackward0>)\n",
      "Correct dLoss/dW1: tensor([[ -8.7668,  11.2050,  -9.2887],\n",
      "        [ -1.0134,   4.6907,  -5.7011],\n",
      "        [ -7.3668,  55.9515, -58.8643],\n",
      "        [ -1.9684, -13.3189,  14.9649],\n",
      "        [  0.2436, -12.4558,  15.9174]])\n",
      "Correct dLoss/db1: tensor([[  8.8145, -12.5458,  51.7239,  22.9312,  28.0691]])\n",
      "Correct dLoss/dins: tensor([[-0.2988, -1.1856,  2.5806],\n",
      "        [-1.6428,  5.3316, -3.1710]])\n"
     ]
    }
   ],
   "source": [
    "# print out your gradients of loss with respect to the parameters of the 1st model layer\n",
    "print(f'Your dLoss/dW1: {mffn.layers[0].W.g}')\n",
    "print(f'Your dLoss/db1: {mffn.layers[0].b.g}')\n",
    "print(f'Your dLoss/dins: {mffn.layers[0].ins.g[:2, :]}') \n",
    "    \n",
    "# print out correct gradients of loss with respect to the parameters of the 1st model layer\n",
    "# these should be the same as your gradients from above\n",
    "model_check = grad_model(mffn, in_data, labels)\n",
    "print(f'Correct dLoss/dW1: {model_check.layers[0].W.grad}')\n",
    "print(f'Correct dLoss/db1: {model_check.layers[0].b.grad}')\n",
    "print(f'Correct dLoss/dins: {model_check.layers[0].ins.grad[:2, :]}')"
   ]
  },
  {
   "cell_type": "code",
   "execution_count": null,
   "id": "b46eef94",
   "metadata": {},
   "outputs": [],
   "source": []
  }
 ],
 "metadata": {
  "kernelspec": {
   "display_name": "Python 3 (ipykernel)",
   "language": "python",
   "name": "python3"
  },
  "language_info": {
   "codemirror_mode": {
    "name": "ipython",
    "version": 3
   },
   "file_extension": ".py",
   "mimetype": "text/x-python",
   "name": "python",
   "nbconvert_exporter": "python",
   "pygments_lexer": "ipython3",
   "version": "3.9.7"
  }
 },
 "nbformat": 4,
 "nbformat_minor": 5
}
